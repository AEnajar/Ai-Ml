{
  "cells": [
    {
      "cell_type": "markdown",
      "id": "83cf67f4",
      "metadata": {
        "id": "83cf67f4"
      },
      "source": [
        "# Week 1 - AI/ML + DevOps Assignments\n",
        "\n",
        "You're fully connected via Binder on Juno Connect — awesome!\n",
        "\n",
        "This week's focus:\n",
        "- **AI/ML:** Python basics with Pandas & NumPy\n",
        "- **DevOps:** Simulate Linux terminal commands with Python\n",
        "\n",
        "---\n",
        "\n",
        "## Part 1: AI/ML – Pandas & NumPy Basics\n"
      ]
    },
    {
      "cell_type": "code",
      "execution_count": 11,
      "id": "217593c0",
      "metadata": {
        "colab": {
          "base_uri": "https://localhost:8080/"
        },
        "id": "217593c0",
        "outputId": "f1fb8276-6f11-4fa8-f515-c66299d7fe24"
      },
      "outputs": [
        {
          "output_type": "stream",
          "name": "stdout",
          "text": [
            "Dataframe:\n",
            "      Name  Age  Score\n",
            "0    Alice   25     85\n",
            "1      Bob   30     90\n",
            "2  Charlie   35     95\n",
            "\n",
            "Average Score: 90.0\n",
            "\n",
            "Ages Doubled:\n",
            "0    50\n",
            "1    60\n",
            "2    70\n",
            "Name: Age, dtype: int64\n",
            "        day  temperature  windspeed event\n",
            "0  1/1/2025           32          6  Rain\n",
            "1  2/1/2025           35          7   Sun\n",
            "2  3/1/2025           28          2  Snow\n",
            "\n",
            "Average temperature: 31.666666666666668\n",
            "         team  points  titles    position\n",
            "0     Arsenal      37       2      Second\n",
            "1   Liverpool      38      19       First\n",
            "2    Man City      36       7        Fith\n",
            "3     Chelsea      35       3      Fourth\n",
            "4  Man United      21      20  Thirteenth\n"
          ]
        }
      ],
      "source": [
        "import pandas as pd\n",
        "import numpy as np\n",
        "\n",
        "\n",
        "data = {\n",
        "    'Name': ['Alice', 'Bob', 'Charlie'],\n",
        "    'Age': [25, 30, 35],\n",
        "    'Score': [85, 90, 95]\n",
        "}\n",
        "\n",
        "df = pd.DataFrame(data)\n",
        "\n",
        "print(\"Dataframe:\")\n",
        "print(df)\n",
        "\n",
        "# Average score\n",
        "print(\"\\nAverage Score:\", df['Score'].mean())\n",
        "\n",
        "# Double ages\n",
        "print(\"\\nAges Doubled:\")\n",
        "print(df['Age'] * 2)\n",
        "\n",
        "weather_data = {\n",
        "  'day' : ['1/1/2025', '2/1/2025','3/1/2025'],\n",
        "  'temperature': [32,35,28],\n",
        "  'windspeed' : [6,7,2],\n",
        "  'event' : ['Rain', 'Sun', 'Snow' ]\n",
        "}\n",
        "\n",
        "df = pd.DataFrame(weather_data)\n",
        "print(df)\n",
        "\n",
        "print(\"\\nAverage temperature:\", df['temperature'].mean())\n",
        "\n",
        "\n",
        "football_data = {\n",
        "    'team' : ['Arsenal', 'Liverpool', 'Man City', 'Chelsea', 'Man United' ],\n",
        "    'points' : [37, 38, 36, 35, 21],\n",
        "    'titles': [2, 19, 7, 3, 20],\n",
        "    'position' : ['Second', 'First', 'Fith', 'Fourth', 'Thirteenth']\n",
        "\n",
        "}\n",
        "\n",
        "df = pd.DataFrame(football_data)\n",
        "print(df)\n"
      ]
    },
    {
      "cell_type": "markdown",
      "id": "befe343f",
      "metadata": {
        "id": "befe343f"
      },
      "source": [
        "---\n",
        "\n",
        "## Part 2: DevOps – Simulating Linux Commands with subprocess\n"
      ]
    },
    {
      "cell_type": "code",
      "execution_count": 3,
      "id": "12ac8c08",
      "metadata": {
        "colab": {
          "base_uri": "https://localhost:8080/"
        },
        "id": "12ac8c08",
        "outputId": "a798eaa0-aa6f-4de3-d4cd-35554378a93c"
      },
      "outputs": [
        {
          "output_type": "stream",
          "name": "stdout",
          "text": [
            "Files in current directory:\n",
            "total 4\n",
            "drwxr-xr-x 1 root root 4096 Apr  4 13:38 sample_data\n",
            "\n",
            "Current working directory:\n",
            "/content\n",
            "\n"
          ]
        }
      ],
      "source": [
        "import subprocess\n",
        "\n",
        "# List files (like `ls`)\n",
        "print(\"Files in current directory:\")\n",
        "print(subprocess.run(['ls', '-l'], capture_output=True, text=True).stdout)\n",
        "\n",
        "# Print working directory\n",
        "print(\"Current working directory:\")\n",
        "print(subprocess.run(['pwd'], capture_output=True, text=True).stdout)\n"
      ]
    }
  ],
  "metadata": {
    "colab": {
      "provenance": [],
      "cell_execution_strategy": "setup"
    },
    "language_info": {
      "name": "python"
    },
    "kernelspec": {
      "name": "python3",
      "display_name": "Python 3"
    }
  },
  "nbformat": 4,
  "nbformat_minor": 5
}