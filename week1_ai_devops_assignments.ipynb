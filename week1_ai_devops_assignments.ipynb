{
  "cells": [
    {
      "cell_type": "markdown",
      "metadata": {
        "id": "view-in-github",
        "colab_type": "text"
      },
      "source": [
        "<a href=\"https://colab.research.google.com/github/AEnajar/Ai-Ml/blob/main/week1_ai_devops_assignments.ipynb\" target=\"_parent\"><img src=\"https://colab.research.google.com/assets/colab-badge.svg\" alt=\"Open In Colab\"/></a>"
      ]
    },
    {
      "cell_type": "markdown",
      "id": "83cf67f4",
      "metadata": {
        "id": "83cf67f4"
      },
      "source": [
        "# Week 1 - AI/ML + DevOps Assignments\n",
        "\n",
        "You're fully connected via Binder on Juno Connect — awesome!\n",
        "\n",
        "This week's focus:\n",
        "- **AI/ML:** Python basics with Pandas & NumPy\n",
        "- **DevOps:** Simulate Linux terminal commands with Python\n",
        "\n",
        "---\n",
        "\n",
        "## Part 1: AI/ML – Pandas & NumPy Basics\n"
      ]
    },
    {
      "cell_type": "code",
      "execution_count": 2,
      "id": "217593c0",
      "metadata": {
        "id": "217593c0",
        "outputId": "772fe661-bffb-4c0d-ecee-b56d1f9e9d0e",
        "colab": {
          "base_uri": "https://localhost:8080/"
        }
      },
      "outputs": [
        {
          "output_type": "stream",
          "name": "stdout",
          "text": [
            "Dataframe:\n",
            "      Name  Age  Score\n",
            "0    Alice   25     85\n",
            "1      Bob   30     90\n",
            "2  Charlie   35     95\n",
            "\n",
            "Average Score: 90.0\n",
            "\n",
            "Ages Doubled:\n",
            "0    50\n",
            "1    60\n",
            "2    70\n",
            "Name: Age, dtype: int64\n"
          ]
        }
      ],
      "source": [
        "import pandas as pd\n",
        "import numpy as np\n",
        "\n",
        "\n",
        "data = {\n",
        "    'Name': ['Alice', 'Bob', 'Charlie'],\n",
        "    'Age': [25, 30, 35],\n",
        "    'Score': [85, 90, 95]\n",
        "}\n",
        "\n",
        "df = pd.DataFrame(data)\n",
        "\n",
        "print(\"Dataframe:\")\n",
        "print(df)\n",
        "\n",
        "# Average score\n",
        "print(\"\\nAverage Score:\", df['Score'].mean())\n",
        "\n",
        "# Double ages\n",
        "print(\"\\nAges Doubled:\")\n",
        "print(df['Age'] * 2)\n"
      ]
    },
    {
      "cell_type": "markdown",
      "id": "befe343f",
      "metadata": {
        "id": "befe343f"
      },
      "source": [
        "---\n",
        "\n",
        "## Part 2: DevOps – Simulating Linux Commands with subprocess\n"
      ]
    },
    {
      "cell_type": "code",
      "execution_count": 3,
      "id": "12ac8c08",
      "metadata": {
        "id": "12ac8c08",
        "outputId": "a798eaa0-aa6f-4de3-d4cd-35554378a93c",
        "colab": {
          "base_uri": "https://localhost:8080/"
        }
      },
      "outputs": [
        {
          "output_type": "stream",
          "name": "stdout",
          "text": [
            "Files in current directory:\n",
            "total 4\n",
            "drwxr-xr-x 1 root root 4096 Apr  4 13:38 sample_data\n",
            "\n",
            "Current working directory:\n",
            "/content\n",
            "\n"
          ]
        }
      ],
      "source": [
        "import subprocess\n",
        "\n",
        "# List files (like `ls`)\n",
        "print(\"Files in current directory:\")\n",
        "print(subprocess.run(['ls', '-l'], capture_output=True, text=True).stdout)\n",
        "\n",
        "# Print working directory\n",
        "print(\"Current working directory:\")\n",
        "print(subprocess.run(['pwd'], capture_output=True, text=True).stdout)\n"
      ]
    }
  ],
  "metadata": {
    "colab": {
      "provenance": [],
      "cell_execution_strategy": "setup",
      "include_colab_link": true
    },
    "language_info": {
      "name": "python"
    },
    "kernelspec": {
      "name": "python3",
      "display_name": "Python 3"
    }
  },
  "nbformat": 4,
  "nbformat_minor": 5
}