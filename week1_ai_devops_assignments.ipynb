{
 "cells": [
  {
   "cell_type": "markdown",
   "id": "83cf67f4",
   "metadata": {},
   "source": [
    "# Week 1 - AI/ML + DevOps Assignments\n",
    "\n",
    "You're fully connected via Binder on Juno Connect — awesome!\n",
    "\n",
    "This week's focus:\n",
    "- **AI/ML:** Python basics with Pandas & NumPy\n",
    "- **DevOps:** Simulate Linux terminal commands with Python\n",
    "\n",
    "---\n",
    "\n",
    "## Part 1: AI/ML – Pandas & NumPy Basics\n"
   ]
  },
  {
   "cell_type": "code",
   "execution_count": null,
   "id": "217593c0",
   "metadata": {},
   "outputs": [],
   "source": [
    "import pandas as pd\n",
    "import numpy as np\n",
    "\n",
    "# Sample data\n",
    "data = {\n",
    "    'Name': ['Alice', 'Bob', 'Charlie'],\n",
    "    'Age': [25, 30, 35],\n",
    "    'Score': [85, 90, 95]\n",
    "}\n",
    "\n",
    "df = pd.DataFrame(data)\n",
    "\n",
    "print(\"Dataframe:\")\n",
    "print(df)\n",
    "\n",
    "# Average score\n",
    "print(\"\\nAverage Score:\", df['Score'].mean())\n",
    "\n",
    "# Double ages\n",
    "print(\"\\nAges Doubled:\")\n",
    "print(df['Age'] * 2)\n"
   ]
  },
  {
   "cell_type": "markdown",
   "id": "befe343f",
   "metadata": {},
   "source": [
    "---\n",
    "\n",
    "## Part 2: DevOps – Simulating Linux Commands with subprocess\n"
   ]
  },
  {
   "cell_type": "code",
   "execution_count": null,
   "id": "12ac8c08",
   "metadata": {},
   "outputs": [],
   "source": [
    "import subprocess\n",
    "\n",
    "# List files (like `ls`)\n",
    "print(\"Files in current directory:\")\n",
    "print(subprocess.run(['ls', '-l'], capture_output=True, text=True).stdout)\n",
    "\n",
    "# Print working directory\n",
    "print(\"Current working directory:\")\n",
    "print(subprocess.run(['pwd'], capture_output=True, text=True).stdout)\n"
   ]
  }
 ],
 "metadata": {},
 "nbformat": 4,
 "nbformat_minor": 5
}
