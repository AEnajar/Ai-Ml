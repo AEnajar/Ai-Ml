{
  "cells": [
    {
      "cell_type": "code",
      "execution_count": 16,
      "id": "217593c0",
      "metadata": {
        "colab": {
          "base_uri": "https://localhost:8080/"
        },
        "id": "217593c0",
        "outputId": "d4de13ee-231a-4bdc-aae1-dfe95cd12810"
      },
      "outputs": [
        {
          "output_type": "stream",
          "name": "stdout",
          "text": [
            "Dataframe:\n",
            "      Name  Age  Score\n",
            "0    Alice   25     85\n",
            "1      Bob   30     90\n",
            "2  Charlie   35     95\n",
            "Average Score: 90.0\n",
            "\n",
            "Ages Doubled:\n",
            "0    50\n",
            "1    60\n",
            "2    70\n",
            "Name: Age, dtype: int64\n",
            "        day  temperature  windspeed event\n",
            "0  1/1/2025           32          6  Rain\n",
            "1  2/1/2025           35          7   Sun\n",
            "2  3/1/2025           28          2  Snow\n",
            "\n",
            "Average temperature: 32.0\n",
            "         team  points  titles    position\n",
            "0     Arsenal      37       2      Second\n",
            "1   Liverpool      38      19       First\n",
            "2    Man City      36       7        Fith\n",
            "3     Chelsea      35       3      Fourth\n",
            "4  Man United      21      20  Thirteenth\n",
            "Team at the Top 38\n"
          ]
        }
      ],
      "source": [
        "import pandas as pd\n",
        "import numpy as np\n",
        "\n",
        "\n",
        "data = {\n",
        "    'Name': ['Alice', 'Bob', 'Charlie'],\n",
        "    'Age': [25, 30, 35],\n",
        "    'Score': [85, 90, 95]\n",
        "}\n",
        "\n",
        "df = pd.DataFrame(data)\n",
        "\n",
        "print(\"Dataframe:\")\n",
        "print(df)\n",
        "\n",
        "# Average score\n",
        "print(\"Average Score:\", df['Score'].mean())\n",
        "\n",
        "# Double ages\n",
        "print(\"\\nAges Doubled:\")\n",
        "print(df['Age'] * 2)\n",
        "\n",
        "\n",
        "\n",
        "weather_data = {\n",
        "  'day' : ['1/1/2025', '2/1/2025','3/1/2025'],\n",
        "  'temperature': [32,35,28],\n",
        "  'windspeed' : [6,7,2],\n",
        "  'event' : ['Rain', 'Sun', 'Snow' ]\n",
        "}\n",
        "\n",
        "df = pd.DataFrame(weather_data)\n",
        "print(df)\n",
        "\n",
        "print(\"\\nAverage temperature:\", df['temperature'].median())\n",
        "\n",
        "\n",
        "\n",
        "\n",
        "football_data = {\n",
        "    'team' : ['Arsenal', 'Liverpool', 'Man City',\n",
        "              'Chelsea', 'Man United' ],\n",
        "    'points' : [37, 38, 36, 35, 21],\n",
        "    'titles': [2, 19, 7, 3, 20],\n",
        "    'position' : ['Second', 'First', 'Fith',\n",
        "                  'Fourth', 'Thirteenth']\n",
        "\n",
        "}\n",
        "\n",
        "df = pd.DataFrame(football_data)\n",
        "print(df)\n",
        "print(\"Team at the Top\", df['points'].max())\n"
      ]
    }
  ],
  "metadata": {
    "colab": {
      "provenance": [],
      "cell_execution_strategy": "setup"
    },
    "language_info": {
      "name": "python"
    },
    "kernelspec": {
      "name": "python3",
      "display_name": "Python 3"
    }
  },
  "nbformat": 4,
  "nbformat_minor": 5
}