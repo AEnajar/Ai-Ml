{
 "cells": [
  {
   "metadata": {
    "trusted": true
   },
   "cell_type": "code",
   "source": "!%pip install pandas numpy  beautifulsoup4 requests spacy nltk scikit-learn flask matplotlib seaborn xgboost boto3",
   "execution_count": 3,
   "outputs": [
    {
     "output_type": "stream",
     "text": " System commands are not supported in Juno (yet)\n",
     "name": "stderr"
    }
   ]
  },
  {
   "metadata": {
    "trusted": true
   },
   "cell_type": "code",
   "source": "!%pip install pandas numpy  beautifulsoup4 requests spacy nltk scikit-learn flask matplotlib seaborn xgboost boto3",
   "execution_count": 4,
   "outputs": [
    {
     "output_type": "stream",
     "text": " System commands are not supported in Juno (yet)\n",
     "name": "stderr"
    }
   ]
  },
  {
   "metadata": {
    "trusted": true
   },
   "cell_type": "code",
   "source": "# Standard imports\nimport numpy as np\nimport pandas as pd\nimport matplotlib.pyplot as plt",
   "execution_count": 2,
   "outputs": [
    {
     "output_type": "stream",
     "text": " System commands are not supported in Juno (yet)\n",
     "name": "stderr"
    }
   ]
  }
 ],
 "metadata": {
  "kernelspec": {
   "name": "python3",
   "display_name": "Python 3",
   "language": "python"
  },
  "language_info": {
   "name": "python",
   "version": "3.10.4",
   "mimetype": "text/x-python",
   "codemirror_mode": {
    "name": "ipython",
    "version": 3
   },
   "pygments_lexer": "ipython3",
   "nbconvert_exporter": "python",
   "file_extension": ".py"
  }
 },
 "nbformat": 4,
 "nbformat_minor": 2
}