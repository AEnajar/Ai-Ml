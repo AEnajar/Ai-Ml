{
  "cells": [
    {
      "cell_type": "code",
      "source": [
        "import subprocess\n",
        "\n",
        "# List files (like `ls`)\n",
        "print(\"Files in current directory:\")\n",
        "print(subprocess.run(['ls', '-l'], capture_output=True, text=True).stdout)\n",
        "\n",
        "# Print working directory\n",
        "print(\"Current working directory:\")\n",
        "print(subprocess.run(['pwd'], capture_output=True, text=True).stdout)"
      ],
      "metadata": {
        "id": "bulkoETBUTiV",
        "outputId": "0854ece7-d7f6-4ec0-e13b-aab14631ee2b",
        "colab": {
          "base_uri": "https://localhost:8080/"
        }
      },
      "id": "bulkoETBUTiV",
      "execution_count": 17,
      "outputs": [
        {
          "output_type": "stream",
          "name": "stdout",
          "text": [
            "Files in current directory:\n",
            "total 4\n",
            "drwxr-xr-x 1 root root 4096 Apr  4 13:38 sample_data\n",
            "\n",
            "Current working directory:\n",
            "/content\n",
            "\n"
          ]
        }
      ]
    }
  ],
  "metadata": {
    "colab": {
      "provenance": [],
      "cell_execution_strategy": "setup"
    },
    "language_info": {
      "name": "python"
    },
    "kernelspec": {
      "name": "python3",
      "display_name": "Python 3"
    }
  },
  "nbformat": 4,
  "nbformat_minor": 5
}